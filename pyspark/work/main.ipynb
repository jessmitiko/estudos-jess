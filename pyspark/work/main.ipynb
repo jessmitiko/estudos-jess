{
 "cells": [
  {
   "cell_type": "code",
   "execution_count": 7,
   "metadata": {
    "id": "hXjNfvSJnweL"
   },
   "outputs": [],
   "source": [
    "from pyspark.sql import SparkSession\n",
    "spark=SparkSession.builder \\\n",
    "        .appName(\"demo\") \\\n",
    "        .master('local[*]') \\\n",
    "        .getOrCreate()"
   ]
  },
  {
   "cell_type": "code",
   "execution_count": 6,
   "metadata": {
    "id": "35YOlSnTcxWl"
   },
   "outputs": [],
   "source": [
    "spark_df=spark.read.csv('data.csv', header=True, inferSchema=True)\n",
    "spark"
   ]
  },
  {
   "cell_type": "markdown",
   "metadata": {
    "id": "eqol7YH3nweN"
   },
   "source": [
    "# basics\n",
    "- pyspark dataframe\n",
    "- reading it\n",
    "- checking schema\n",
    "- selecting and indexing\n",
    "- describing it similar to pandas\n",
    "- adding, renaming and dropping columns"
   ]
  },
  {
   "cell_type": "code",
   "execution_count": null,
   "metadata": {
    "id": "IM_v2uAQnweP",
    "outputId": "295c0658-5736-4305-e4d2-6ba813b94c64"
   },
   "outputs": [
    {
     "data": {
      "text/html": [
       "<div>\n",
       "<style scoped>\n",
       "    .dataframe tbody tr th:only-of-type {\n",
       "        vertical-align: middle;\n",
       "    }\n",
       "\n",
       "    .dataframe tbody tr th {\n",
       "        vertical-align: top;\n",
       "    }\n",
       "\n",
       "    .dataframe thead th {\n",
       "        text-align: right;\n",
       "    }\n",
       "</style>\n",
       "<table border=\"1\" class=\"dataframe\">\n",
       "  <thead>\n",
       "    <tr style=\"text-align: right;\">\n",
       "      <th></th>\n",
       "      <th>name</th>\n",
       "      <th>age</th>\n",
       "    </tr>\n",
       "  </thead>\n",
       "  <tbody>\n",
       "    <tr>\n",
       "      <th>0</th>\n",
       "      <td>krish</td>\n",
       "      <td>31</td>\n",
       "    </tr>\n",
       "    <tr>\n",
       "      <th>1</th>\n",
       "      <td>sudansh</td>\n",
       "      <td>30</td>\n",
       "    </tr>\n",
       "    <tr>\n",
       "      <th>2</th>\n",
       "      <td>sunny</td>\n",
       "      <td>29</td>\n",
       "    </tr>\n",
       "  </tbody>\n",
       "</table>\n",
       "</div>"
      ],
      "text/plain": [
       "      name  age\n",
       "0    krish   31\n",
       "1  sudansh   30\n",
       "2    sunny   29"
      ]
     },
     "execution_count": 5,
     "metadata": {},
     "output_type": "execute_result"
    }
   ],
   "source": [
    "import pandas as pd\n",
    "pd.read_csv('./data.csv')"
   ]
  },
  {
   "cell_type": "code",
   "execution_count": null,
   "metadata": {
    "id": "96dF7OTonweQ",
    "outputId": "e22f2b4f-e758-4f49-955e-1e918b393aac"
   },
   "outputs": [
    {
     "name": "stdout",
     "output_type": "stream",
     "text": [
      "root\n",
      " |-- name: string (nullable = true)\n",
      " |-- age: integer (nullable = true)\n",
      "\n"
     ]
    }
   ],
   "source": [
    "spark_df.head(10)\n",
    "spark_df.printSchema()"
   ]
  },
  {
   "cell_type": "code",
   "execution_count": null,
   "metadata": {
    "id": "4frlM-vYnweR",
    "outputId": "37c84ac7-15a1-4304-add5-bcda8c7e8f92"
   },
   "outputs": [
    {
     "name": "stdout",
     "output_type": "stream",
     "text": [
      "+-------+---+\n",
      "|   name|age|\n",
      "+-------+---+\n",
      "|  krish| 31|\n",
      "|sudansh| 30|\n",
      "|  sunny| 29|\n",
      "+-------+---+\n",
      "\n"
     ]
    }
   ],
   "source": [
    "spark_df.show()"
   ]
  },
  {
   "cell_type": "code",
   "execution_count": null,
   "metadata": {
    "id": "CpGUrX61nweR",
    "outputId": "453bb4eb-df97-4dc6-9e29-51d6ca1cdc20"
   },
   "outputs": [
    {
     "name": "stdout",
     "output_type": "stream",
     "text": [
      "+-------+---+\n",
      "|   name|age|\n",
      "+-------+---+\n",
      "|  krish| 31|\n",
      "|sudansh| 30|\n",
      "|  sunny| 29|\n",
      "+-------+---+\n",
      "\n"
     ]
    }
   ],
   "source": [
    "spark_df.select(['name', 'age']).show()"
   ]
  },
  {
   "cell_type": "code",
   "execution_count": null,
   "metadata": {
    "id": "A53Jvs84nweS",
    "outputId": "73f8477f-af7a-4544-a46e-f4f64cdc859d"
   },
   "outputs": [
    {
     "data": {
      "text/plain": [
       "pyspark.sql.column.Column"
      ]
     },
     "execution_count": 30,
     "metadata": {},
     "output_type": "execute_result"
    }
   ],
   "source": [
    "type(spark_df['name'])"
   ]
  },
  {
   "cell_type": "code",
   "execution_count": null,
   "metadata": {
    "id": "e_POq79VnweS",
    "outputId": "5090f2af-12e6-43c0-fd0b-dd92c4562ebb"
   },
   "outputs": [
    {
     "data": {
      "text/plain": [
       "[('name', 'string'), ('age', 'int')]"
      ]
     },
     "execution_count": 31,
     "metadata": {},
     "output_type": "execute_result"
    }
   ],
   "source": [
    "spark_df.dtypes"
   ]
  },
  {
   "cell_type": "code",
   "execution_count": null,
   "metadata": {
    "id": "zJwqK7M_nweS",
    "outputId": "fc3ac37b-c69c-41b7-d8d4-1d3e44cbf7d1"
   },
   "outputs": [
    {
     "name": "stdout",
     "output_type": "stream",
     "text": [
      "+-------+-----+----+\n",
      "|summary| name| age|\n",
      "+-------+-----+----+\n",
      "|  count|    3|   3|\n",
      "|   mean| null|30.0|\n",
      "| stddev| null| 1.0|\n",
      "|    min|krish|  29|\n",
      "|    max|sunny|  31|\n",
      "+-------+-----+----+\n",
      "\n"
     ]
    }
   ],
   "source": [
    "spark_df.describe().show()"
   ]
  },
  {
   "cell_type": "code",
   "execution_count": null,
   "metadata": {
    "id": "XOzjLSGenweT"
   },
   "outputs": [],
   "source": [
    "spark_df=spark_df.withColumn('Age after 2 years', spark_df['age']+2)\n",
    "spark_df=spark_df.drop('Age after 2 years')"
   ]
  },
  {
   "cell_type": "code",
   "execution_count": null,
   "metadata": {
    "id": "T9YwxGNvnweT",
    "outputId": "effaea47-004a-444c-8a22-eef6d2c6f5cf"
   },
   "outputs": [
    {
     "name": "stdout",
     "output_type": "stream",
     "text": [
      "+--------+---+\n",
      "|new name|age|\n",
      "+--------+---+\n",
      "|   krish| 31|\n",
      "| sudansh| 30|\n",
      "|   sunny| 29|\n",
      "+--------+---+\n",
      "\n"
     ]
    }
   ],
   "source": [
    "spark_df.withColumnRenamed('name', 'new name').show()"
   ]
  },
  {
   "cell_type": "markdown",
   "metadata": {
    "id": "G8GOBlnunweT"
   },
   "source": [
    "# handling missing values\n",
    "- dropping columns and rows\n",
    "- handling missing values by mean, median and mode"
   ]
  },
  {
   "cell_type": "code",
   "execution_count": null,
   "metadata": {
    "id": "wmJZRri9nweU",
    "outputId": "e03d29c2-a2e2-4975-eede-257537f4e84a"
   },
   "outputs": [
    {
     "name": "stdout",
     "output_type": "stream",
     "text": [
      "+-------+----+\n",
      "|   name| age|\n",
      "+-------+----+\n",
      "|  krish|  31|\n",
      "|sudansh|  30|\n",
      "|  sunny|  29|\n",
      "|   paul|  29|\n",
      "| harsha|  21|\n",
      "|   null|  34|\n",
      "|   null|  30|\n",
      "| mahesh|null|\n",
      "+-------+----+\n",
      "\n"
     ]
    }
   ],
   "source": [
    "spark_df.show()"
   ]
  },
  {
   "cell_type": "code",
   "execution_count": null,
   "metadata": {
    "id": "vWQW2pn2nweU",
    "outputId": "172021a3-cd11-4d36-cff2-fbd54114d47d"
   },
   "outputs": [
    {
     "name": "stdout",
     "output_type": "stream",
     "text": [
      "+-------+---+\n",
      "|   name|age|\n",
      "+-------+---+\n",
      "|  krish| 31|\n",
      "|sudansh| 30|\n",
      "|  sunny| 29|\n",
      "|   paul| 29|\n",
      "| harsha| 21|\n",
      "+-------+---+\n",
      "\n"
     ]
    }
   ],
   "source": [
    "spark_df.na.drop().show()"
   ]
  },
  {
   "cell_type": "code",
   "execution_count": null,
   "metadata": {
    "id": "qPdwEwuInweU",
    "outputId": "b99f8ef6-54fd-4697-8ad2-7fd2424373eb"
   },
   "outputs": [
    {
     "name": "stdout",
     "output_type": "stream",
     "text": [
      "+-------+----+\n",
      "|   name| age|\n",
      "+-------+----+\n",
      "|  krish|  31|\n",
      "|sudansh|  30|\n",
      "|  sunny|  29|\n",
      "|   paul|  29|\n",
      "| harsha|  21|\n",
      "|   null|  34|\n",
      "|   null|  30|\n",
      "| mahesh|null|\n",
      "+-------+----+\n",
      "\n"
     ]
    }
   ],
   "source": [
    "spark_df.na.drop(how='all').show()"
   ]
  },
  {
   "cell_type": "code",
   "execution_count": null,
   "metadata": {
    "id": "FwfjxVlRnweV"
   },
   "outputs": [],
   "source": [
    "from pyspark.sql.functions import floor\n",
    "spark_df=spark_df.withColumn('fake xp', floor(spark_df['age']/2))"
   ]
  },
  {
   "cell_type": "code",
   "execution_count": null,
   "metadata": {
    "id": "NdFElzq0nweV",
    "outputId": "8a36568a-04b0-442e-a85e-9e2e9fc18099"
   },
   "outputs": [
    {
     "name": "stdout",
     "output_type": "stream",
     "text": [
      "+-------+----+-------+\n",
      "|   name| age|fake xp|\n",
      "+-------+----+-------+\n",
      "|  krish|  31|     15|\n",
      "|sudansh|  30|     15|\n",
      "|  sunny|  29|     14|\n",
      "|   paul|  29|     14|\n",
      "| harsha|  21|     10|\n",
      "|   null|  34|     17|\n",
      "|   null|  30|     15|\n",
      "| mahesh|null|   null|\n",
      "+-------+----+-------+\n",
      "\n"
     ]
    }
   ],
   "source": [
    "spark_df.show()"
   ]
  },
  {
   "cell_type": "code",
   "execution_count": null,
   "metadata": {
    "id": "7yk1oGuunweV",
    "outputId": "89d5a987-2f12-4b8e-80f9-a5575c6f128b"
   },
   "outputs": [
    {
     "name": "stdout",
     "output_type": "stream",
     "text": [
      "+-------+---+-------+\n",
      "|   name|age|fake xp|\n",
      "+-------+---+-------+\n",
      "|  krish| 31|     15|\n",
      "|sudansh| 30|     15|\n",
      "|  sunny| 29|     14|\n",
      "|   paul| 29|     14|\n",
      "| harsha| 21|     10|\n",
      "|   null| 34|     17|\n",
      "|   null| 30|     15|\n",
      "+-------+---+-------+\n",
      "\n"
     ]
    }
   ],
   "source": [
    "spark_df.na.drop(how='any', thresh=2).show() #if there's at least 2 non-null values (threash)"
   ]
  },
  {
   "cell_type": "code",
   "execution_count": null,
   "metadata": {
    "id": "BN2OHCfhnweV",
    "outputId": "f68e319d-4116-450c-838b-af17238d50be"
   },
   "outputs": [
    {
     "name": "stdout",
     "output_type": "stream",
     "text": [
      "+-------+----+-------+\n",
      "|   name| age|fake xp|\n",
      "+-------+----+-------+\n",
      "|  krish|  31|     15|\n",
      "|sudansh|  30|     15|\n",
      "|  sunny|  29|     14|\n",
      "|   paul|  29|     14|\n",
      "| harsha|  21|     10|\n",
      "| mahesh|null|   null|\n",
      "+-------+----+-------+\n",
      "\n"
     ]
    }
   ],
   "source": [
    "spark_df.na.drop(how='any', subset=['name']).show()"
   ]
  },
  {
   "cell_type": "code",
   "execution_count": null,
   "metadata": {
    "id": "Zdnj2NBTnweW",
    "outputId": "cb3cbd2a-b522-4a33-fa35-abfb269ec830"
   },
   "outputs": [
    {
     "name": "stdout",
     "output_type": "stream",
     "text": [
      "+-------+----+-------+\n",
      "|   name| age|fake xp|\n",
      "+-------+----+-------+\n",
      "|  krish|  31|     15|\n",
      "|sudansh|  30|     15|\n",
      "|  sunny|  29|     14|\n",
      "|   paul|  29|     14|\n",
      "| harsha|  21|     10|\n",
      "|   null|  34|     17|\n",
      "|   null|  30|     15|\n",
      "| mahesh|null|   null|\n",
      "+-------+----+-------+\n",
      "\n"
     ]
    }
   ],
   "source": [
    "spark_df.na.fill('missing', ['age']).show() #?"
   ]
  },
  {
   "cell_type": "code",
   "execution_count": null,
   "metadata": {
    "id": "M8JfitD1nweW"
   },
   "outputs": [],
   "source": [
    "from pyspark.ml.feature import Imputer\n",
    "\n",
    "imp=Imputer(\n",
    "    inputCols=['age', 'fake xp'],\n",
    "    outputCols=[f'{col}_imputed' for col in ['age', 'fake xp']]\n",
    ").setStrategy('mean') #mean, median, mode"
   ]
  },
  {
   "cell_type": "code",
   "execution_count": null,
   "metadata": {
    "id": "8jVg0OCVnweW",
    "outputId": "42ccfa18-e202-462a-c22c-a18ba54c7867"
   },
   "outputs": [
    {
     "name": "stdout",
     "output_type": "stream",
     "text": [
      "+-------+------+------------------+------------------+\n",
      "|summary|  name|               age|           fake xp|\n",
      "+-------+------+------------------+------------------+\n",
      "|  count|     6|                 7|                 7|\n",
      "|   mean|  null|29.142857142857142|14.285714285714286|\n",
      "| stddev|  null|3.9761191895520196| 2.138089935299395|\n",
      "|    min|harsha|                21|                10|\n",
      "|    max| sunny|                34|                17|\n",
      "+-------+------+------------------+------------------+\n",
      "\n"
     ]
    }
   ],
   "source": [
    "spark_df.describe().show()"
   ]
  },
  {
   "cell_type": "code",
   "execution_count": null,
   "metadata": {
    "id": "AIswfavYnweW",
    "outputId": "b8c4c3eb-3a73-4bb3-dfa6-570ab4a2c065"
   },
   "outputs": [
    {
     "name": "stdout",
     "output_type": "stream",
     "text": [
      "+-------+----+-------+-----------+---------------+\n",
      "|   name| age|fake xp|age_imputed|fake xp_imputed|\n",
      "+-------+----+-------+-----------+---------------+\n",
      "|  krish|  31|     15|         31|             15|\n",
      "|sudansh|  30|     15|         30|             15|\n",
      "|  sunny|  29|     14|         29|             14|\n",
      "|   paul|  29|     14|         29|             14|\n",
      "| harsha|  21|     10|         21|             10|\n",
      "|   null|  34|     17|         34|             17|\n",
      "|   null|  30|     15|         30|             15|\n",
      "| mahesh|null|   null|         29|             14|\n",
      "+-------+----+-------+-----------+---------------+\n",
      "\n"
     ]
    }
   ],
   "source": [
    "imp.fit(spark_df).transform(spark_df).show()"
   ]
  },
  {
   "cell_type": "markdown",
   "metadata": {
    "id": "Al6EKxRcnweX"
   },
   "source": [
    "# dataframes filter ops\n",
    "- filter\n",
    "- `&`, `|`, `==` e `~`"
   ]
  },
  {
   "cell_type": "code",
   "execution_count": null,
   "metadata": {
    "id": "OjOw6AflnweX"
   },
   "outputs": [],
   "source": [
    "names=[row.name for row in spark_df.select('name').collect()]\n",
    "\n",
    "import random\n",
    "a=spark.createDataFrame(\n",
    "    [(random.randint(2000, 10000), name) for name in names], 'salary int, name string')\n",
    "\n",
    "#add fake salary\n",
    "spark_df=spark_df.join(a, on='name', how='full')"
   ]
  },
  {
   "cell_type": "code",
   "execution_count": null,
   "metadata": {
    "colab": {
     "base_uri": "https://localhost:8080/"
    },
    "id": "gnj19Bo5dMp5",
    "outputId": "8f4c6daa-5ee2-46fd-d6d7-56560aa78450"
   },
   "outputs": [
    {
     "name": "stdout",
     "output_type": "stream",
     "text": [
      "+-------+----+------+\n",
      "|   name| age|salary|\n",
      "+-------+----+------+\n",
      "|   NULL|  34|  NULL|\n",
      "|   NULL|  30|  NULL|\n",
      "| mahesh|NULL|  2502|\n",
      "|   NULL|NULL|  4602|\n",
      "|  sunny|  29|  4808|\n",
      "|sudansh|  30|  4964|\n",
      "|   paul|  29|  6264|\n",
      "|   NULL|NULL|  6573|\n",
      "|  krish|  31|  9580|\n",
      "| harsha|  21|  9987|\n",
      "+-------+----+------+\n",
      "\n"
     ]
    }
   ],
   "source": [
    "spark_df.orderBy('salary').show()"
   ]
  },
  {
   "cell_type": "code",
   "execution_count": null,
   "metadata": {
    "colab": {
     "base_uri": "https://localhost:8080/"
    },
    "id": "DrRAkaw_ido8",
    "outputId": "12d8af27-c8a8-456e-b99f-c8314ce46dd4"
   },
   "outputs": [
    {
     "name": "stdout",
     "output_type": "stream",
     "text": [
      "+------+----+\n",
      "|  name| age|\n",
      "+------+----+\n",
      "|mahesh|NULL|\n",
      "+------+----+\n",
      "\n"
     ]
    }
   ],
   "source": [
    "spark_df.filter('salary<=3000').select(['name', 'age']).show()"
   ]
  },
  {
   "cell_type": "code",
   "execution_count": null,
   "metadata": {
    "colab": {
     "base_uri": "https://localhost:8080/"
    },
    "id": "3eKr8I7-jdg3",
    "outputId": "df0743bb-79c1-488b-b785-4c4c15e00c92"
   },
   "outputs": [
    {
     "name": "stdout",
     "output_type": "stream",
     "text": [
      "+-------+----+\n",
      "|   name| age|\n",
      "+-------+----+\n",
      "|sudansh|  30|\n",
      "|  sunny|  29|\n",
      "|   paul|  29|\n",
      "|   NULL|NULL|\n",
      "|   NULL|NULL|\n",
      "+-------+----+\n",
      "\n"
     ]
    }
   ],
   "source": [
    "spark_df.filter(\n",
    "    (spark_df['salary']>=4000) & (spark_df['salary']<=7000)).select(['name', 'age']).show()"
   ]
  },
  {
   "cell_type": "code",
   "execution_count": null,
   "metadata": {
    "colab": {
     "base_uri": "https://localhost:8080/"
    },
    "id": "Q0hIopgJkbWZ",
    "outputId": "f25126d8-f5ab-4262-acdd-7683208115c9"
   },
   "outputs": [
    {
     "name": "stdout",
     "output_type": "stream",
     "text": [
      "+-------+----+\n",
      "|   name| age|\n",
      "+-------+----+\n",
      "|sudansh|  30|\n",
      "|  sunny|  29|\n",
      "|   NULL|NULL|\n",
      "| mahesh|NULL|\n",
      "+-------+----+\n",
      "\n"
     ]
    }
   ],
   "source": [
    "spark_df.filter(~(spark_df['salary']>=5000)).select(['name', 'age']).show() #not"
   ]
  },
  {
   "cell_type": "markdown",
   "metadata": {
    "id": "4Rd1G9VklIX2"
   },
   "source": [
    "# Group by and Aggregated Functions"
   ]
  },
  {
   "cell_type": "code",
   "execution_count": null,
   "metadata": {
    "colab": {
     "base_uri": "https://localhost:8080/"
    },
    "id": "3sI3TJVilL-l",
    "outputId": "57e28ab3-7e11-43ef-ebc6-0cb215323247"
   },
   "outputs": [
    {
     "name": "stdout",
     "output_type": "stream",
     "text": [
      "+----+-----------+\n",
      "| age|sum(salary)|\n",
      "+----+-----------+\n",
      "|  31|       9580|\n",
      "|  34|       NULL|\n",
      "|NULL|      13677|\n",
      "|  29|      11072|\n",
      "|  21|       9987|\n",
      "|  30|       4964|\n",
      "+----+-----------+\n",
      "\n"
     ]
    }
   ],
   "source": [
    "spark_df.groupBy('age').sum('salary').show()\n",
    "                    #  .count()\n",
    "                    #  .avg()\n",
    "                    #  .max()\n",
    "                    #  etc"
   ]
  }
 ],
 "metadata": {
  "colab": {
   "provenance": []
  },
  "kernelspec": {
   "display_name": "Python 3 (ipykernel)",
   "language": "python",
   "name": "python3"
  },
  "language_info": {
   "codemirror_mode": {
    "name": "ipython",
    "version": 3
   },
   "file_extension": ".py",
   "mimetype": "text/x-python",
   "name": "python",
   "nbconvert_exporter": "python",
   "pygments_lexer": "ipython3",
   "version": "3.11.6"
  }
 },
 "nbformat": 4,
 "nbformat_minor": 4
}
